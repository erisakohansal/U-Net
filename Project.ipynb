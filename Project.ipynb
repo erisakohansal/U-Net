{
 "cells": [
  {
   "cell_type": "markdown",
   "metadata": {},
   "source": [
    "In this notebook, we are going to implement a U-Net architecture for liver segmentation. We will tackle this problem in two main parts:\n",
    "\n",
    "1. 2D U-Net segmentation\n",
    "    1.1 Dataset\n",
    "    1.2 Model\n",
    "    1.3 Training\n",
    "    1.4 Testing\n",
    "2. 3D U-Net segmentation\n"
   ]
  },
  {
   "cell_type": "code",
   "execution_count": 1,
   "metadata": {},
   "outputs": [
    {
     "name": "stderr",
     "output_type": "stream",
     "text": [
      "C:\\Users\\HP\\AppData\\Local\\Packages\\PythonSoftwareFoundation.Python.3.11_qbz5n2kfra8p0\\LocalCache\\local-packages\\Python311\\site-packages\\tqdm\\auto.py:21: TqdmWarning: IProgress not found. Please update jupyter and ipywidgets. See https://ipywidgets.readthedocs.io/en/stable/user_install.html\n",
      "  from .autonotebook import tqdm as notebook_tqdm\n"
     ]
    },
    {
     "name": "stdout",
     "output_type": "stream",
     "text": [
      "System version: 3.11.9 (tags/v3.11.9:de54cf5, Apr  2 2024, 10:12:12) [MSC v.1938 64 bit (AMD64)]\n",
      "PyTorch version: 2.6.0+cpu\n",
      "Torchvision version: 0.21.0+cpu\n",
      "NumPy version: 1.26.4\n",
      "Pandas version: 2.2.3\n"
     ]
    }
   ],
   "source": [
    "from pathlib import Path\n",
    "from Config import unzip, convert_folder\n",
    "from LiverCTDataset import LiverCTDataset\n",
    "\n",
    "import torch\n",
    "import torch.nn as nn # neural networks functions\n",
    "import torch.optim as optim # optimizer\n",
    "from torch.utils.data import Dataset, DataLoader \n",
    "import torchvision\n",
    "import torchvision.transforms as transforms \n",
    "from torchvision.datasets import ImageFolder\n",
    "import timm # specific for image classification tasks\n",
    "\n",
    "import matplotlib.pyplot as plt\n",
    "import pandas as pd\n",
    "import numpy as np\n",
    "import sys\n",
    "\n",
    "print(f'System version: {sys.version}')\n",
    "print(f'PyTorch version: {torch.__version__}')\n",
    "print(f'Torchvision version: {torchvision.__version__}')\n",
    "print(f'NumPy version: {np.__version__}')\n",
    "print(f'Pandas version: {pd.__version__}')\n",
    "\n",
    "base_path = Path(\"C:/Users/HP/Desktop/PIMA/3Dircadb1\")"
   ]
  },
  {
   "cell_type": "markdown",
   "metadata": {},
   "source": [
    "For a better comprehension and a better visualization of the data, we unzip the PATIENT_DICOM, MASKS_DICOM and LABELLED_DICOM folders and convert the DICOM files into png or jpeg. In the convert_folder function and dicom_to_png_jpeg, specify which format you prefer.\n",
    "\n",
    "There are 20 patients in the IRCAD dataset so we run the below code for each patient"
   ]
  },
  {
   "cell_type": "code",
   "execution_count": 2,
   "metadata": {},
   "outputs": [
    {
     "name": "stdout",
     "output_type": "stream",
     "text": [
      "C:\\Users\\HP\\Desktop\\PIMA\\3Dircadb1\\3Dircadb1.1\\MASKS_DICOM.zip is extracted to: C:\\Users\\HP\\Desktop\\PIMA\\3Dircadb1\\3Dircadb1.1\\MASKS_DICOM\n",
      "C:\\Users\\HP\\Desktop\\PIMA\\3Dircadb1\\3Dircadb1.1\\PATIENT_DICOM.zip is extracted to: C:\\Users\\HP\\Desktop\\PIMA\\3Dircadb1\\3Dircadb1.1\\PATIENT_DICOM\n",
      "C:\\Users\\HP\\Desktop\\PIMA\\3Dircadb1\\3Dircadb1.1\\LABELLED_DICOM.zip is extracted to: C:\\Users\\HP\\Desktop\\PIMA\\3Dircadb1\\3Dircadb1.1\\LABELLED_DICOM\n",
      "C:\\Users\\HP\\Desktop\\PIMA\\3Dircadb1\\3Dircadb1.2\\MASKS_DICOM.zip is extracted to: C:\\Users\\HP\\Desktop\\PIMA\\3Dircadb1\\3Dircadb1.2\\MASKS_DICOM\n",
      "C:\\Users\\HP\\Desktop\\PIMA\\3Dircadb1\\3Dircadb1.2\\PATIENT_DICOM.zip is extracted to: C:\\Users\\HP\\Desktop\\PIMA\\3Dircadb1\\3Dircadb1.2\\PATIENT_DICOM\n",
      "C:\\Users\\HP\\Desktop\\PIMA\\3Dircadb1\\3Dircadb1.2\\LABELLED_DICOM.zip is extracted to: C:\\Users\\HP\\Desktop\\PIMA\\3Dircadb1\\3Dircadb1.2\\LABELLED_DICOM\n",
      "C:\\Users\\HP\\Desktop\\PIMA\\3Dircadb1\\3Dircadb1.3\\MASKS_DICOM.zip is extracted to: C:\\Users\\HP\\Desktop\\PIMA\\3Dircadb1\\3Dircadb1.3\\MASKS_DICOM\n",
      "C:\\Users\\HP\\Desktop\\PIMA\\3Dircadb1\\3Dircadb1.3\\PATIENT_DICOM.zip is extracted to: C:\\Users\\HP\\Desktop\\PIMA\\3Dircadb1\\3Dircadb1.3\\PATIENT_DICOM\n",
      "C:\\Users\\HP\\Desktop\\PIMA\\3Dircadb1\\3Dircadb1.3\\LABELLED_DICOM.zip is extracted to: C:\\Users\\HP\\Desktop\\PIMA\\3Dircadb1\\3Dircadb1.3\\LABELLED_DICOM\n",
      "C:\\Users\\HP\\Desktop\\PIMA\\3Dircadb1\\3Dircadb1.4\\MASKS_DICOM.zip is extracted to: C:\\Users\\HP\\Desktop\\PIMA\\3Dircadb1\\3Dircadb1.4\\MASKS_DICOM\n",
      "C:\\Users\\HP\\Desktop\\PIMA\\3Dircadb1\\3Dircadb1.4\\PATIENT_DICOM.zip is extracted to: C:\\Users\\HP\\Desktop\\PIMA\\3Dircadb1\\3Dircadb1.4\\PATIENT_DICOM\n",
      "C:\\Users\\HP\\Desktop\\PIMA\\3Dircadb1\\3Dircadb1.4\\LABELLED_DICOM.zip is extracted to: C:\\Users\\HP\\Desktop\\PIMA\\3Dircadb1\\3Dircadb1.4\\LABELLED_DICOM\n",
      "C:\\Users\\HP\\Desktop\\PIMA\\3Dircadb1\\3Dircadb1.5\\MASKS_DICOM.zip is extracted to: C:\\Users\\HP\\Desktop\\PIMA\\3Dircadb1\\3Dircadb1.5\\MASKS_DICOM\n",
      "C:\\Users\\HP\\Desktop\\PIMA\\3Dircadb1\\3Dircadb1.5\\PATIENT_DICOM.zip is extracted to: C:\\Users\\HP\\Desktop\\PIMA\\3Dircadb1\\3Dircadb1.5\\PATIENT_DICOM\n",
      "C:\\Users\\HP\\Desktop\\PIMA\\3Dircadb1\\3Dircadb1.5\\LABELLED_DICOM.zip is extracted to: C:\\Users\\HP\\Desktop\\PIMA\\3Dircadb1\\3Dircadb1.5\\LABELLED_DICOM\n",
      "C:\\Users\\HP\\Desktop\\PIMA\\3Dircadb1\\3Dircadb1.6\\MASKS_DICOM.zip is extracted to: C:\\Users\\HP\\Desktop\\PIMA\\3Dircadb1\\3Dircadb1.6\\MASKS_DICOM\n",
      "C:\\Users\\HP\\Desktop\\PIMA\\3Dircadb1\\3Dircadb1.6\\PATIENT_DICOM.zip is extracted to: C:\\Users\\HP\\Desktop\\PIMA\\3Dircadb1\\3Dircadb1.6\\PATIENT_DICOM\n",
      "C:\\Users\\HP\\Desktop\\PIMA\\3Dircadb1\\3Dircadb1.6\\LABELLED_DICOM.zip is extracted to: C:\\Users\\HP\\Desktop\\PIMA\\3Dircadb1\\3Dircadb1.6\\LABELLED_DICOM\n",
      "C:\\Users\\HP\\Desktop\\PIMA\\3Dircadb1\\3Dircadb1.7\\MASKS_DICOM.zip is extracted to: C:\\Users\\HP\\Desktop\\PIMA\\3Dircadb1\\3Dircadb1.7\\MASKS_DICOM\n",
      "C:\\Users\\HP\\Desktop\\PIMA\\3Dircadb1\\3Dircadb1.7\\PATIENT_DICOM.zip is extracted to: C:\\Users\\HP\\Desktop\\PIMA\\3Dircadb1\\3Dircadb1.7\\PATIENT_DICOM\n",
      "C:\\Users\\HP\\Desktop\\PIMA\\3Dircadb1\\3Dircadb1.7\\LABELLED_DICOM.zip is extracted to: C:\\Users\\HP\\Desktop\\PIMA\\3Dircadb1\\3Dircadb1.7\\LABELLED_DICOM\n",
      "C:\\Users\\HP\\Desktop\\PIMA\\3Dircadb1\\3Dircadb1.8\\MASKS_DICOM.zip is extracted to: C:\\Users\\HP\\Desktop\\PIMA\\3Dircadb1\\3Dircadb1.8\\MASKS_DICOM\n",
      "C:\\Users\\HP\\Desktop\\PIMA\\3Dircadb1\\3Dircadb1.8\\PATIENT_DICOM.zip is extracted to: C:\\Users\\HP\\Desktop\\PIMA\\3Dircadb1\\3Dircadb1.8\\PATIENT_DICOM\n",
      "C:\\Users\\HP\\Desktop\\PIMA\\3Dircadb1\\3Dircadb1.8\\LABELLED_DICOM.zip is extracted to: C:\\Users\\HP\\Desktop\\PIMA\\3Dircadb1\\3Dircadb1.8\\LABELLED_DICOM\n",
      "C:\\Users\\HP\\Desktop\\PIMA\\3Dircadb1\\3Dircadb1.9\\MASKS_DICOM.zip is extracted to: C:\\Users\\HP\\Desktop\\PIMA\\3Dircadb1\\3Dircadb1.9\\MASKS_DICOM\n",
      "C:\\Users\\HP\\Desktop\\PIMA\\3Dircadb1\\3Dircadb1.9\\PATIENT_DICOM.zip is extracted to: C:\\Users\\HP\\Desktop\\PIMA\\3Dircadb1\\3Dircadb1.9\\PATIENT_DICOM\n",
      "C:\\Users\\HP\\Desktop\\PIMA\\3Dircadb1\\3Dircadb1.9\\LABELLED_DICOM.zip is extracted to: C:\\Users\\HP\\Desktop\\PIMA\\3Dircadb1\\3Dircadb1.9\\LABELLED_DICOM\n",
      "C:\\Users\\HP\\Desktop\\PIMA\\3Dircadb1\\3Dircadb1.10\\MASKS_DICOM.zip is extracted to: C:\\Users\\HP\\Desktop\\PIMA\\3Dircadb1\\3Dircadb1.10\\MASKS_DICOM\n",
      "C:\\Users\\HP\\Desktop\\PIMA\\3Dircadb1\\3Dircadb1.10\\PATIENT_DICOM.zip is extracted to: C:\\Users\\HP\\Desktop\\PIMA\\3Dircadb1\\3Dircadb1.10\\PATIENT_DICOM\n",
      "C:\\Users\\HP\\Desktop\\PIMA\\3Dircadb1\\3Dircadb1.10\\LABELLED_DICOM.zip is extracted to: C:\\Users\\HP\\Desktop\\PIMA\\3Dircadb1\\3Dircadb1.10\\LABELLED_DICOM\n",
      "C:\\Users\\HP\\Desktop\\PIMA\\3Dircadb1\\3Dircadb1.11\\MASKS_DICOM.zip is extracted to: C:\\Users\\HP\\Desktop\\PIMA\\3Dircadb1\\3Dircadb1.11\\MASKS_DICOM\n",
      "C:\\Users\\HP\\Desktop\\PIMA\\3Dircadb1\\3Dircadb1.11\\PATIENT_DICOM.zip is extracted to: C:\\Users\\HP\\Desktop\\PIMA\\3Dircadb1\\3Dircadb1.11\\PATIENT_DICOM\n",
      "C:\\Users\\HP\\Desktop\\PIMA\\3Dircadb1\\3Dircadb1.11\\LABELLED_DICOM.zip is extracted to: C:\\Users\\HP\\Desktop\\PIMA\\3Dircadb1\\3Dircadb1.11\\LABELLED_DICOM\n",
      "C:\\Users\\HP\\Desktop\\PIMA\\3Dircadb1\\3Dircadb1.12\\MASKS_DICOM.zip is extracted to: C:\\Users\\HP\\Desktop\\PIMA\\3Dircadb1\\3Dircadb1.12\\MASKS_DICOM\n",
      "C:\\Users\\HP\\Desktop\\PIMA\\3Dircadb1\\3Dircadb1.12\\PATIENT_DICOM.zip is extracted to: C:\\Users\\HP\\Desktop\\PIMA\\3Dircadb1\\3Dircadb1.12\\PATIENT_DICOM\n",
      "C:\\Users\\HP\\Desktop\\PIMA\\3Dircadb1\\3Dircadb1.12\\LABELLED_DICOM.zip is extracted to: C:\\Users\\HP\\Desktop\\PIMA\\3Dircadb1\\3Dircadb1.12\\LABELLED_DICOM\n",
      "C:\\Users\\HP\\Desktop\\PIMA\\3Dircadb1\\3Dircadb1.13\\MASKS_DICOM.zip is extracted to: C:\\Users\\HP\\Desktop\\PIMA\\3Dircadb1\\3Dircadb1.13\\MASKS_DICOM\n",
      "C:\\Users\\HP\\Desktop\\PIMA\\3Dircadb1\\3Dircadb1.13\\PATIENT_DICOM.zip is extracted to: C:\\Users\\HP\\Desktop\\PIMA\\3Dircadb1\\3Dircadb1.13\\PATIENT_DICOM\n",
      "C:\\Users\\HP\\Desktop\\PIMA\\3Dircadb1\\3Dircadb1.13\\LABELLED_DICOM.zip is extracted to: C:\\Users\\HP\\Desktop\\PIMA\\3Dircadb1\\3Dircadb1.13\\LABELLED_DICOM\n",
      "C:\\Users\\HP\\Desktop\\PIMA\\3Dircadb1\\3Dircadb1.14\\MASKS_DICOM.zip is extracted to: C:\\Users\\HP\\Desktop\\PIMA\\3Dircadb1\\3Dircadb1.14\\MASKS_DICOM\n",
      "C:\\Users\\HP\\Desktop\\PIMA\\3Dircadb1\\3Dircadb1.14\\PATIENT_DICOM.zip is extracted to: C:\\Users\\HP\\Desktop\\PIMA\\3Dircadb1\\3Dircadb1.14\\PATIENT_DICOM\n",
      "C:\\Users\\HP\\Desktop\\PIMA\\3Dircadb1\\3Dircadb1.14\\LABELLED_DICOM.zip is extracted to: C:\\Users\\HP\\Desktop\\PIMA\\3Dircadb1\\3Dircadb1.14\\LABELLED_DICOM\n",
      "C:\\Users\\HP\\Desktop\\PIMA\\3Dircadb1\\3Dircadb1.15\\MASKS_DICOM.zip is extracted to: C:\\Users\\HP\\Desktop\\PIMA\\3Dircadb1\\3Dircadb1.15\\MASKS_DICOM\n",
      "C:\\Users\\HP\\Desktop\\PIMA\\3Dircadb1\\3Dircadb1.15\\PATIENT_DICOM.zip is extracted to: C:\\Users\\HP\\Desktop\\PIMA\\3Dircadb1\\3Dircadb1.15\\PATIENT_DICOM\n",
      "C:\\Users\\HP\\Desktop\\PIMA\\3Dircadb1\\3Dircadb1.15\\LABELLED_DICOM.zip is extracted to: C:\\Users\\HP\\Desktop\\PIMA\\3Dircadb1\\3Dircadb1.15\\LABELLED_DICOM\n",
      "C:\\Users\\HP\\Desktop\\PIMA\\3Dircadb1\\3Dircadb1.16\\MASKS_DICOM.zip is extracted to: C:\\Users\\HP\\Desktop\\PIMA\\3Dircadb1\\3Dircadb1.16\\MASKS_DICOM\n",
      "C:\\Users\\HP\\Desktop\\PIMA\\3Dircadb1\\3Dircadb1.16\\PATIENT_DICOM.zip is extracted to: C:\\Users\\HP\\Desktop\\PIMA\\3Dircadb1\\3Dircadb1.16\\PATIENT_DICOM\n",
      "C:\\Users\\HP\\Desktop\\PIMA\\3Dircadb1\\3Dircadb1.16\\LABELLED_DICOM.zip is extracted to: C:\\Users\\HP\\Desktop\\PIMA\\3Dircadb1\\3Dircadb1.16\\LABELLED_DICOM\n",
      "C:\\Users\\HP\\Desktop\\PIMA\\3Dircadb1\\3Dircadb1.17\\MASKS_DICOM.zip is extracted to: C:\\Users\\HP\\Desktop\\PIMA\\3Dircadb1\\3Dircadb1.17\\MASKS_DICOM\n",
      "C:\\Users\\HP\\Desktop\\PIMA\\3Dircadb1\\3Dircadb1.17\\PATIENT_DICOM.zip is extracted to: C:\\Users\\HP\\Desktop\\PIMA\\3Dircadb1\\3Dircadb1.17\\PATIENT_DICOM\n",
      "C:\\Users\\HP\\Desktop\\PIMA\\3Dircadb1\\3Dircadb1.17\\LABELLED_DICOM.zip is extracted to: C:\\Users\\HP\\Desktop\\PIMA\\3Dircadb1\\3Dircadb1.17\\LABELLED_DICOM\n",
      "C:\\Users\\HP\\Desktop\\PIMA\\3Dircadb1\\3Dircadb1.18\\MASKS_DICOM.zip is extracted to: C:\\Users\\HP\\Desktop\\PIMA\\3Dircadb1\\3Dircadb1.18\\MASKS_DICOM\n",
      "C:\\Users\\HP\\Desktop\\PIMA\\3Dircadb1\\3Dircadb1.18\\PATIENT_DICOM.zip is extracted to: C:\\Users\\HP\\Desktop\\PIMA\\3Dircadb1\\3Dircadb1.18\\PATIENT_DICOM\n",
      "C:\\Users\\HP\\Desktop\\PIMA\\3Dircadb1\\3Dircadb1.18\\LABELLED_DICOM.zip is extracted to: C:\\Users\\HP\\Desktop\\PIMA\\3Dircadb1\\3Dircadb1.18\\LABELLED_DICOM\n",
      "C:\\Users\\HP\\Desktop\\PIMA\\3Dircadb1\\3Dircadb1.19\\MASKS_DICOM.zip is extracted to: C:\\Users\\HP\\Desktop\\PIMA\\3Dircadb1\\3Dircadb1.19\\MASKS_DICOM\n",
      "C:\\Users\\HP\\Desktop\\PIMA\\3Dircadb1\\3Dircadb1.19\\PATIENT_DICOM.zip is extracted to: C:\\Users\\HP\\Desktop\\PIMA\\3Dircadb1\\3Dircadb1.19\\PATIENT_DICOM\n",
      "C:\\Users\\HP\\Desktop\\PIMA\\3Dircadb1\\3Dircadb1.19\\LABELLED_DICOM.zip is extracted to: C:\\Users\\HP\\Desktop\\PIMA\\3Dircadb1\\3Dircadb1.19\\LABELLED_DICOM\n",
      "C:\\Users\\HP\\Desktop\\PIMA\\3Dircadb1\\3Dircadb1.20\\MASKS_DICOM.zip is extracted to: C:\\Users\\HP\\Desktop\\PIMA\\3Dircadb1\\3Dircadb1.20\\MASKS_DICOM\n",
      "C:\\Users\\HP\\Desktop\\PIMA\\3Dircadb1\\3Dircadb1.20\\PATIENT_DICOM.zip is extracted to: C:\\Users\\HP\\Desktop\\PIMA\\3Dircadb1\\3Dircadb1.20\\PATIENT_DICOM\n",
      "C:\\Users\\HP\\Desktop\\PIMA\\3Dircadb1\\3Dircadb1.20\\LABELLED_DICOM.zip is extracted to: C:\\Users\\HP\\Desktop\\PIMA\\3Dircadb1\\3Dircadb1.20\\LABELLED_DICOM\n"
     ]
    }
   ],
   "source": [
    "for i in range(1, 21):\n",
    "        current = f\"3Dircadb1.{i}\"\n",
    "        patient = \"PATIENT_DICOM\"\n",
    "        masks = \"MASKS_DICOM\"\n",
    "        labelled = \"LABELLED_DICOM\"\n",
    "\n",
    "        unzip(base_path / current / (masks + \".zip\"), base_path / current / masks)\n",
    "        convert_folder(base_path / current / masks / masks / \"liver\", base_path / current / masks / \"converted\")\n",
    "\n",
    "        unzip(base_path / current / (patient + \".zip\"), base_path / current / patient)\n",
    "        convert_folder(base_path / current / patient / patient, base_path / current / patient / \"converted\")\n",
    "\n",
    "        unzip(base_path / current / (labelled + \".zip\"), base_path / current / labelled)\n",
    "        convert_folder(base_path / current / labelled / labelled, base_path / current / labelled / \"converted\")"
   ]
  },
  {
   "cell_type": "markdown",
   "metadata": {},
   "source": [
    "\n",
    "| #  | 1st liver appearance | Last liver appearance | Total number of slices in between | Total patient slices |\n",
    "|----|----------------------|-----------------------|-----------------------------------|----------------------|\n",
    "| 1  | image_27             | image_124             | 98                                | 129                  |\n",
    "| 2  | image_44             | image_157             | 114                               | 172                  |\n",
    "| 3  | image_61             | image_182             | 122                               | 200                  |\n",
    "| 4  | image_19             | image_85              | 67                                | 91                   |\n",
    "| 5  | image_19             | image_137             | 119                               | 139                  |\n",
    "| 6  | image_37             | image_132             | 96                                | 135                  |\n",
    "| 7  | image_48             | image_145             | 98                                | 151                  |\n",
    "| 8  | image_6              | image_121             | 116                               | 124                  |\n",
    "| 9  | image_11             | image_99              | 89                                | 111                  |\n",
    "| 10 | image_22             | image_120             | 99                                | 122                  |\n",
    "| 11 | image_33             | image_128             | 96                                | 132                  |\n",
    "| 12 | image_9              | image_247             | 239                               | 260                  |\n",
    "| 13 | image_26             | image_115             | 90                                | 122                  |\n",
    "| 14 | image_4              | image_107             | 104                               | 113                  |\n",
    "| 15 | image_6              | image_120             | 115                               | 125                  |\n",
    "| 16 | image_39             | image_151             | 113                               | 155                  |\n",
    "| 17 | image_1              | image_113             | 113                               | 119                  |\n",
    "| 18 | image_12             | image_70              | 59                                | 74                   |\n",
    "| 19 | image_28             | image_68              | 41                                | 124                  |\n",
    "| 20 | image_126            | image_210             | 85                                | 225                  |\n",
    "\n",
    "\n",
    "2,12,18,20 were all black before normalization."
   ]
  },
  {
   "cell_type": "markdown",
   "metadata": {},
   "source": [
    "Creating and training a U-Net model with PyTorch for 2D & 3D semantic segmentation: Dataset building [1/4]"
   ]
  },
  {
   "cell_type": "code",
   "execution_count": 2,
   "metadata": {},
   "outputs": [
    {
     "name": "stdout",
     "output_type": "stream",
     "text": [
      "x = shape: torch.Size([2, 1, 512, 512]); type: torch.float32\n",
      "x = min: -1024.0; max: 1023.0\n",
      "y = shape: torch.Size([2, 512, 512]); class: tensor([  0, 255]); type: torch.int64\n"
     ]
    }
   ],
   "source": [
    "# exemple : lire les images du premier patient : image_27 et image_70\n",
    "input = base_path / \"3Dircadb1.1\" / \"PATIENT_DICOM\" / \"PATIENT_DICOM\"\n",
    "target =  base_path / \"3Dircadb1.1\" / \"MASKS_DICOM\" / \"MASKS_DICOM\" / \"liver\"\n",
    "inputs = [input  / \"image_46\", input  / \"image_70\"]\n",
    "targets = [target / \"image_46\", target / \"image_70\"]\n",
    "\n",
    "training_dataset = LiverCTDataset(inputs=inputs, \n",
    "                           masks=targets,\n",
    "                           transform=None)\n",
    "\n",
    "training_dataloader = DataLoader(dataset=training_dataset, \n",
    "                                      batch_size=2, \n",
    "                                      shuffle=True)\n",
    "\n",
    "x, y = next(iter(training_dataloader))\n",
    "    \n",
    "print(f'x = shape: {x.shape}; type: {x.dtype}')\n",
    "print(f'x = min: {x.min()}; max: {x.max()}')\n",
    "print(f'y = shape: {y.shape}; class: {y.unique()}; type: {y.dtype}')"
   ]
  },
  {
   "cell_type": "code",
   "execution_count": null,
   "metadata": {},
   "outputs": [],
   "source": []
  }
 ],
 "metadata": {
  "kernelspec": {
   "display_name": "Python 3",
   "language": "python",
   "name": "python3"
  },
  "language_info": {
   "codemirror_mode": {
    "name": "ipython",
    "version": 3
   },
   "file_extension": ".py",
   "mimetype": "text/x-python",
   "name": "python",
   "nbconvert_exporter": "python",
   "pygments_lexer": "ipython3",
   "version": "3.11.9"
  }
 },
 "nbformat": 4,
 "nbformat_minor": 2
}
